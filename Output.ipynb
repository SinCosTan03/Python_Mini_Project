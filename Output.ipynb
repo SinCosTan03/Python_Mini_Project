{
 "cells": [
  {
   "cell_type": "markdown",
   "id": "135c30f7-940a-40cc-a736-cd49f8656c78",
   "metadata": {},
   "source": [
    "# Image Processing Tool as the python_mini_project"
   ]
  },
  {
   "cell_type": "code",
   "execution_count": null,
   "id": "b4bd8b9f-73e0-4a3c-ba8f-05baf4306f3d",
   "metadata": {},
   "outputs": [
    {
     "name": "stdout",
     "output_type": "stream",
     "text": [
      "\n",
      "--- Image Processing Tool ---\n",
      "1. Load Image\n",
      "2. Show Image\n",
      "3. Apply Grayscale\n",
      "4. Apply Sepia\n",
      "5. Apply Blur\n",
      "6. Resize Image\n",
      "7. Rotate Image\n",
      "8. Save Image\n",
      "9. Exit\n"
     ]
    },
    {
     "name": "stdin",
     "output_type": "stream",
     "text": [
      "Enter your choice:  1\n",
      "Enter the path of the image:  Sample_nature_image.jpg\n"
     ]
    },
    {
     "name": "stdout",
     "output_type": "stream",
     "text": [
      "✅ Image loaded successfully!\n",
      "\n",
      "--- Image Processing Tool ---\n",
      "1. Load Image\n",
      "2. Show Image\n",
      "3. Apply Grayscale\n",
      "4. Apply Sepia\n",
      "5. Apply Blur\n",
      "6. Resize Image\n",
      "7. Rotate Image\n",
      "8. Save Image\n",
      "9. Exit\n"
     ]
    },
    {
     "name": "stdin",
     "output_type": "stream",
     "text": [
      "Enter your choice:  2\n"
     ]
    },
    {
     "name": "stdout",
     "output_type": "stream",
     "text": [
      "\n",
      "--- Image Processing Tool ---\n",
      "1. Load Image\n",
      "2. Show Image\n",
      "3. Apply Grayscale\n",
      "4. Apply Sepia\n",
      "5. Apply Blur\n",
      "6. Resize Image\n",
      "7. Rotate Image\n",
      "8. Save Image\n",
      "9. Exit\n"
     ]
    },
    {
     "name": "stdin",
     "output_type": "stream",
     "text": [
      "Enter your choice:  4\n"
     ]
    },
    {
     "name": "stdout",
     "output_type": "stream",
     "text": [
      "✅ Sepia filter applied!\n",
      "\n",
      "--- Image Processing Tool ---\n",
      "1. Load Image\n",
      "2. Show Image\n",
      "3. Apply Grayscale\n",
      "4. Apply Sepia\n",
      "5. Apply Blur\n",
      "6. Resize Image\n",
      "7. Rotate Image\n",
      "8. Save Image\n",
      "9. Exit\n"
     ]
    },
    {
     "name": "stdin",
     "output_type": "stream",
     "text": [
      "Enter your choice:  7\n",
      "Enter rotation angle (in degrees):  90\n"
     ]
    },
    {
     "name": "stdout",
     "output_type": "stream",
     "text": [
      "✅ Image rotated by 90 degrees!\n",
      "\n",
      "--- Image Processing Tool ---\n",
      "1. Load Image\n",
      "2. Show Image\n",
      "3. Apply Grayscale\n",
      "4. Apply Sepia\n",
      "5. Apply Blur\n",
      "6. Resize Image\n",
      "7. Rotate Image\n",
      "8. Save Image\n",
      "9. Exit\n"
     ]
    },
    {
     "name": "stdin",
     "output_type": "stream",
     "text": [
      "Enter your choice:  8\n"
     ]
    }
   ],
   "source": [
    "from PIL import Image, ImageFilter, ImageOps\n",
    "\n",
    "class ImageProcessor:\n",
    "    def __init__(self):\n",
    "        self.image = None  # Stores the loaded image\n",
    "\n",
    "    def load_image(self, file_path):\n",
    "        \"\"\"Loads an image from the specified file path.\"\"\"\n",
    "        try:\n",
    "            self.image = Image.open(file_path)\n",
    "            print(\"✅ Image loaded successfully!\")\n",
    "        except Exception as e:\n",
    "            print(f\"❌ Error loading image: {e}\")\n",
    "\n",
    "    def save_image(self, output_path):\n",
    "        \"\"\"Saves the processed image to the specified file path.\"\"\"\n",
    "        if self.image:\n",
    "            try:\n",
    "                self.image.save(output_path)\n",
    "                print(f\"✅ Image saved at: {output_path}\")\n",
    "            except Exception as e:\n",
    "                print(f\"❌ Error saving image: {e}\")\n",
    "        else:\n",
    "            print(\"❌ No image to save! Please load an image first.\")\n",
    "\n",
    "    def apply_grayscale(self):\n",
    "        \"\"\"Converts the image to grayscale.\"\"\"\n",
    "        if self.image:\n",
    "            self.image = ImageOps.grayscale(self.image)\n",
    "            print(\"✅ Grayscale filter applied!\")\n",
    "        else:\n",
    "            print(\"❌ No image loaded!\")\n",
    "\n",
    "    def apply_sepia(self):\n",
    "        \"\"\"Applies a sepia filter to the image.\"\"\"\n",
    "        if self.image:\n",
    "            sepia = self.image.convert(\"RGB\")\n",
    "            width, height = sepia.size\n",
    "            pixels = sepia.load()\n",
    "\n",
    "            for py in range(height):\n",
    "                for px in range(width):\n",
    "                    r, g, b = pixels[px, py]\n",
    "\n",
    "                    # Sepia transformation\n",
    "                    tr = int(0.393 * r + 0.769 * g + 0.189 * b)\n",
    "                    tg = int(0.349 * r + 0.686 * g + 0.168 * b)\n",
    "                    tb = int(0.272 * r + 0.534 * g + 0.131 * b)\n",
    "\n",
    "                    pixels[px, py] = (min(255, tr), min(255, tg), min(255, tb))\n",
    "\n",
    "            self.image = sepia\n",
    "            print(\"✅ Sepia filter applied!\")\n",
    "        else:\n",
    "            print(\"❌ No image loaded!\")\n",
    "\n",
    "    def apply_blur(self):\n",
    "        \"\"\"Applies a blur filter to the image.\"\"\"\n",
    "        if self.image:\n",
    "            self.image = self.image.filter(ImageFilter.BLUR)\n",
    "            print(\"✅ Blur filter applied!\")\n",
    "        else:\n",
    "            print(\"❌ No image loaded!\")\n",
    "\n",
    "    def resize_image(self, width, height):\n",
    "        \"\"\"Resizes the image to the specified width and height.\"\"\"\n",
    "        if self.image:\n",
    "            self.image = self.image.resize((width, height))\n",
    "            print(f\"✅ Image resized to {width}x{height}!\")\n",
    "        else:\n",
    "            print(\"❌ No image loaded!\")\n",
    "\n",
    "    def rotate_image(self, angle):\n",
    "        \"\"\"Rotates the image by the specified angle.\"\"\"\n",
    "        if self.image:\n",
    "            self.image = self.image.rotate(angle)\n",
    "            print(f\"✅ Image rotated by {angle} degrees!\")\n",
    "        else:\n",
    "            print(\"❌ No image loaded!\")\n",
    "\n",
    "    def show_image(self):\n",
    "        \"\"\"Displays the current image.\"\"\"\n",
    "        if self.image:\n",
    "            self.image.show()\n",
    "        else:\n",
    "            print(\"❌ No image loaded!\")\n",
    "\n",
    "\n",
    "# Main program\n",
    "if __name__ == \"__main__\":\n",
    "    processor = ImageProcessor()\n",
    "\n",
    "    while True:\n",
    "        print(\"\\n--- Image Processing Tool ---\")\n",
    "        print(\"1. Load Image\")\n",
    "        print(\"2. Show Image\")\n",
    "        print(\"3. Apply Grayscale\")\n",
    "        print(\"4. Apply Sepia\")\n",
    "        print(\"5. Apply Blur\")\n",
    "        print(\"6. Resize Image\")\n",
    "        print(\"7. Rotate Image\")\n",
    "        print(\"8. Save Image\")\n",
    "        print(\"9. Exit\")\n",
    "        \n",
    "        choice = input(\"Enter your choice: \")\n",
    "\n",
    "        if choice == \"1\":\n",
    "            file_path = input(\"Enter the path of the image: \")\n",
    "            processor.load_image(file_path)\n",
    "        elif choice == \"2\":\n",
    "            processor.show_image()\n",
    "        elif choice == \"3\":\n",
    "            processor.apply_grayscale()\n",
    "        elif choice == \"4\":\n",
    "            processor.apply_sepia()\n",
    "        elif choice == \"5\":\n",
    "            processor.apply_blur()\n",
    "        elif choice == \"6\":\n",
    "            try:\n",
    "                width = int(input(\"Enter new width: \"))\n",
    "                height = int(input(\"Enter new height: \"))\n",
    "                processor.resize_image(width, height)\n",
    "            except ValueError:\n",
    "                print(\"❌ Please enter valid dimensions.\")\n",
    "        elif choice == \"7\":\n",
    "            try:\n",
    "                angle = int(input(\"Enter rotation angle (in degrees): \"))\n",
    "                processor.rotate_image(angle)\n",
    "            except ValueError:\n",
    "                print(\"❌ Please enter a valid angle.\")\n",
    "        elif choice == \"8\":\n",
    "            output_path = input(\"Enter the output file path (e.g., output.jpg): \")\n",
    "            processor.save_image(output_path)\n",
    "        elif choice == \"9\":\n",
    "            print(\"👋 Exiting the tool. Goodbye!\")\n",
    "            break\n",
    "        else:\n",
    "            print(\"❌ Invalid choice! Please try again.\")\n"
   ]
  },
  {
   "cell_type": "code",
   "execution_count": null,
   "id": "65ad02ce-daf1-406d-a9c5-75e3e6bcd3b9",
   "metadata": {},
   "outputs": [],
   "source": []
  }
 ],
 "metadata": {
  "kernelspec": {
   "display_name": "Python 3 (ipykernel)",
   "language": "python",
   "name": "python3"
  },
  "language_info": {
   "codemirror_mode": {
    "name": "ipython",
    "version": 3
   },
   "file_extension": ".py",
   "mimetype": "text/x-python",
   "name": "python",
   "nbconvert_exporter": "python",
   "pygments_lexer": "ipython3",
   "version": "3.12.4"
  }
 },
 "nbformat": 4,
 "nbformat_minor": 5
}
